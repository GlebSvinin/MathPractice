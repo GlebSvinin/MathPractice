{
 "cells": [
  {
   "cell_type": "code",
   "execution_count": 1,
   "metadata": {},
   "outputs": [],
   "source": [
    "import pandas as pd\n",
    "import numpy as np\n",
    "import matplotlib.pyplot as plt"
   ]
  },
  {
   "cell_type": "code",
   "execution_count": 2,
   "metadata": {},
   "outputs": [],
   "source": [
    "url1 = 'https://raw.githubusercontent.com/vaibhavwalvekar/NYC-Flights-2013-Dataset-Analysis/master/flights.csv'\n",
    "url2 = 'https://raw.githubusercontent.com/vaibhavwalvekar/NYC-Flights-2013-Dataset-Analysis/master/weather.csv'    \n",
    "\n",
    "flights = pd.read_csv(url1, sep=',')\n",
    "weather = pd.read_csv(url2, sep=',')"
   ]
  },
  {
   "cell_type": "code",
   "execution_count": 19,
   "metadata": {},
   "outputs": [
    {
     "data": {
      "text/html": [
       "<div>\n",
       "<style scoped>\n",
       "    .dataframe tbody tr th:only-of-type {\n",
       "        vertical-align: middle;\n",
       "    }\n",
       "\n",
       "    .dataframe tbody tr th {\n",
       "        vertical-align: top;\n",
       "    }\n",
       "\n",
       "    .dataframe thead th {\n",
       "        text-align: right;\n",
       "    }\n",
       "</style>\n",
       "<table border=\"1\" class=\"dataframe\">\n",
       "  <thead>\n",
       "    <tr style=\"text-align: right;\">\n",
       "      <th></th>\n",
       "      <th>Unnamed: 0</th>\n",
       "      <th>year</th>\n",
       "      <th>month</th>\n",
       "      <th>day</th>\n",
       "      <th>dep_time</th>\n",
       "      <th>dep_delay</th>\n",
       "      <th>arr_time</th>\n",
       "      <th>arr_delay</th>\n",
       "      <th>carrier</th>\n",
       "      <th>tailnum</th>\n",
       "      <th>flight</th>\n",
       "      <th>origin</th>\n",
       "      <th>dest</th>\n",
       "      <th>air_time</th>\n",
       "      <th>distance</th>\n",
       "      <th>hour</th>\n",
       "      <th>minute</th>\n",
       "    </tr>\n",
       "  </thead>\n",
       "  <tbody>\n",
       "    <tr>\n",
       "      <th>0</th>\n",
       "      <td>1</td>\n",
       "      <td>2013</td>\n",
       "      <td>1</td>\n",
       "      <td>1</td>\n",
       "      <td>517.0</td>\n",
       "      <td>2.0</td>\n",
       "      <td>830.0</td>\n",
       "      <td>11.0</td>\n",
       "      <td>UA</td>\n",
       "      <td>N14228</td>\n",
       "      <td>1545</td>\n",
       "      <td>EWR</td>\n",
       "      <td>IAH</td>\n",
       "      <td>227.0</td>\n",
       "      <td>1400</td>\n",
       "      <td>5.0</td>\n",
       "      <td>17.0</td>\n",
       "    </tr>\n",
       "    <tr>\n",
       "      <th>1</th>\n",
       "      <td>2</td>\n",
       "      <td>2013</td>\n",
       "      <td>1</td>\n",
       "      <td>1</td>\n",
       "      <td>533.0</td>\n",
       "      <td>4.0</td>\n",
       "      <td>850.0</td>\n",
       "      <td>20.0</td>\n",
       "      <td>UA</td>\n",
       "      <td>N24211</td>\n",
       "      <td>1714</td>\n",
       "      <td>LGA</td>\n",
       "      <td>IAH</td>\n",
       "      <td>227.0</td>\n",
       "      <td>1416</td>\n",
       "      <td>5.0</td>\n",
       "      <td>33.0</td>\n",
       "    </tr>\n",
       "    <tr>\n",
       "      <th>2</th>\n",
       "      <td>3</td>\n",
       "      <td>2013</td>\n",
       "      <td>1</td>\n",
       "      <td>1</td>\n",
       "      <td>542.0</td>\n",
       "      <td>2.0</td>\n",
       "      <td>923.0</td>\n",
       "      <td>33.0</td>\n",
       "      <td>AA</td>\n",
       "      <td>N619AA</td>\n",
       "      <td>1141</td>\n",
       "      <td>JFK</td>\n",
       "      <td>MIA</td>\n",
       "      <td>160.0</td>\n",
       "      <td>1089</td>\n",
       "      <td>5.0</td>\n",
       "      <td>42.0</td>\n",
       "    </tr>\n",
       "    <tr>\n",
       "      <th>3</th>\n",
       "      <td>4</td>\n",
       "      <td>2013</td>\n",
       "      <td>1</td>\n",
       "      <td>1</td>\n",
       "      <td>544.0</td>\n",
       "      <td>-1.0</td>\n",
       "      <td>1004.0</td>\n",
       "      <td>-18.0</td>\n",
       "      <td>B6</td>\n",
       "      <td>N804JB</td>\n",
       "      <td>725</td>\n",
       "      <td>JFK</td>\n",
       "      <td>BQN</td>\n",
       "      <td>183.0</td>\n",
       "      <td>1576</td>\n",
       "      <td>5.0</td>\n",
       "      <td>44.0</td>\n",
       "    </tr>\n",
       "    <tr>\n",
       "      <th>4</th>\n",
       "      <td>5</td>\n",
       "      <td>2013</td>\n",
       "      <td>1</td>\n",
       "      <td>1</td>\n",
       "      <td>554.0</td>\n",
       "      <td>-6.0</td>\n",
       "      <td>812.0</td>\n",
       "      <td>-25.0</td>\n",
       "      <td>DL</td>\n",
       "      <td>N668DN</td>\n",
       "      <td>461</td>\n",
       "      <td>LGA</td>\n",
       "      <td>ATL</td>\n",
       "      <td>116.0</td>\n",
       "      <td>762</td>\n",
       "      <td>5.0</td>\n",
       "      <td>54.0</td>\n",
       "    </tr>\n",
       "    <tr>\n",
       "      <th>...</th>\n",
       "      <td>...</td>\n",
       "      <td>...</td>\n",
       "      <td>...</td>\n",
       "      <td>...</td>\n",
       "      <td>...</td>\n",
       "      <td>...</td>\n",
       "      <td>...</td>\n",
       "      <td>...</td>\n",
       "      <td>...</td>\n",
       "      <td>...</td>\n",
       "      <td>...</td>\n",
       "      <td>...</td>\n",
       "      <td>...</td>\n",
       "      <td>...</td>\n",
       "      <td>...</td>\n",
       "      <td>...</td>\n",
       "      <td>...</td>\n",
       "    </tr>\n",
       "    <tr>\n",
       "      <th>839</th>\n",
       "      <td>840</td>\n",
       "      <td>2013</td>\n",
       "      <td>1</td>\n",
       "      <td>1</td>\n",
       "      <td>NaN</td>\n",
       "      <td>NaN</td>\n",
       "      <td>NaN</td>\n",
       "      <td>NaN</td>\n",
       "      <td>AA</td>\n",
       "      <td>N3EHAA</td>\n",
       "      <td>791</td>\n",
       "      <td>LGA</td>\n",
       "      <td>DFW</td>\n",
       "      <td>NaN</td>\n",
       "      <td>1389</td>\n",
       "      <td>NaN</td>\n",
       "      <td>NaN</td>\n",
       "    </tr>\n",
       "    <tr>\n",
       "      <th>840</th>\n",
       "      <td>841</td>\n",
       "      <td>2013</td>\n",
       "      <td>1</td>\n",
       "      <td>1</td>\n",
       "      <td>NaN</td>\n",
       "      <td>NaN</td>\n",
       "      <td>NaN</td>\n",
       "      <td>NaN</td>\n",
       "      <td>AA</td>\n",
       "      <td>N3EVAA</td>\n",
       "      <td>1925</td>\n",
       "      <td>LGA</td>\n",
       "      <td>MIA</td>\n",
       "      <td>NaN</td>\n",
       "      <td>1096</td>\n",
       "      <td>NaN</td>\n",
       "      <td>NaN</td>\n",
       "    </tr>\n",
       "    <tr>\n",
       "      <th>841</th>\n",
       "      <td>842</td>\n",
       "      <td>2013</td>\n",
       "      <td>1</td>\n",
       "      <td>1</td>\n",
       "      <td>NaN</td>\n",
       "      <td>NaN</td>\n",
       "      <td>NaN</td>\n",
       "      <td>NaN</td>\n",
       "      <td>B6</td>\n",
       "      <td>N618JB</td>\n",
       "      <td>125</td>\n",
       "      <td>JFK</td>\n",
       "      <td>FLL</td>\n",
       "      <td>NaN</td>\n",
       "      <td>1069</td>\n",
       "      <td>NaN</td>\n",
       "      <td>NaN</td>\n",
       "    </tr>\n",
       "    <tr>\n",
       "      <th>842</th>\n",
       "      <td>843</td>\n",
       "      <td>2013</td>\n",
       "      <td>1</td>\n",
       "      <td>2</td>\n",
       "      <td>42.0</td>\n",
       "      <td>43.0</td>\n",
       "      <td>518.0</td>\n",
       "      <td>36.0</td>\n",
       "      <td>B6</td>\n",
       "      <td>N580JB</td>\n",
       "      <td>707</td>\n",
       "      <td>JFK</td>\n",
       "      <td>SJU</td>\n",
       "      <td>189.0</td>\n",
       "      <td>1598</td>\n",
       "      <td>0.0</td>\n",
       "      <td>42.0</td>\n",
       "    </tr>\n",
       "    <tr>\n",
       "      <th>843</th>\n",
       "      <td>844</td>\n",
       "      <td>2013</td>\n",
       "      <td>1</td>\n",
       "      <td>2</td>\n",
       "      <td>126.0</td>\n",
       "      <td>156.0</td>\n",
       "      <td>233.0</td>\n",
       "      <td>154.0</td>\n",
       "      <td>B6</td>\n",
       "      <td>N636JB</td>\n",
       "      <td>22</td>\n",
       "      <td>JFK</td>\n",
       "      <td>SYR</td>\n",
       "      <td>49.0</td>\n",
       "      <td>209</td>\n",
       "      <td>1.0</td>\n",
       "      <td>26.0</td>\n",
       "    </tr>\n",
       "  </tbody>\n",
       "</table>\n",
       "<p>844 rows × 17 columns</p>\n",
       "</div>"
      ],
      "text/plain": [
       "     Unnamed: 0  year  month  day  dep_time  dep_delay  arr_time  arr_delay  \\\n",
       "0             1  2013      1    1     517.0        2.0     830.0       11.0   \n",
       "1             2  2013      1    1     533.0        4.0     850.0       20.0   \n",
       "2             3  2013      1    1     542.0        2.0     923.0       33.0   \n",
       "3             4  2013      1    1     544.0       -1.0    1004.0      -18.0   \n",
       "4             5  2013      1    1     554.0       -6.0     812.0      -25.0   \n",
       "..          ...   ...    ...  ...       ...        ...       ...        ...   \n",
       "839         840  2013      1    1       NaN        NaN       NaN        NaN   \n",
       "840         841  2013      1    1       NaN        NaN       NaN        NaN   \n",
       "841         842  2013      1    1       NaN        NaN       NaN        NaN   \n",
       "842         843  2013      1    2      42.0       43.0     518.0       36.0   \n",
       "843         844  2013      1    2     126.0      156.0     233.0      154.0   \n",
       "\n",
       "    carrier tailnum  flight origin dest  air_time  distance  hour  minute  \n",
       "0        UA  N14228    1545    EWR  IAH     227.0      1400   5.0    17.0  \n",
       "1        UA  N24211    1714    LGA  IAH     227.0      1416   5.0    33.0  \n",
       "2        AA  N619AA    1141    JFK  MIA     160.0      1089   5.0    42.0  \n",
       "3        B6  N804JB     725    JFK  BQN     183.0      1576   5.0    44.0  \n",
       "4        DL  N668DN     461    LGA  ATL     116.0       762   5.0    54.0  \n",
       "..      ...     ...     ...    ...  ...       ...       ...   ...     ...  \n",
       "839      AA  N3EHAA     791    LGA  DFW       NaN      1389   NaN     NaN  \n",
       "840      AA  N3EVAA    1925    LGA  MIA       NaN      1096   NaN     NaN  \n",
       "841      B6  N618JB     125    JFK  FLL       NaN      1069   NaN     NaN  \n",
       "842      B6  N580JB     707    JFK  SJU     189.0      1598   0.0    42.0  \n",
       "843      B6  N636JB      22    JFK  SYR      49.0       209   1.0    26.0  \n",
       "\n",
       "[844 rows x 17 columns]"
      ]
     },
     "execution_count": 19,
     "metadata": {},
     "output_type": "execute_result"
    }
   ],
   "source": [
    "flights.head(844)"
   ]
  },
  {
   "cell_type": "code",
   "execution_count": 4,
   "metadata": {},
   "outputs": [
    {
     "data": {
      "text/plain": [
       "array(['UA', 'AA', 'B6', 'DL', 'EV', 'MQ', 'US', 'WN', 'VX', 'FL', 'AS',\n",
       "       '9E', 'F9', 'HA', 'YV', 'OO'], dtype=object)"
      ]
     },
     "execution_count": 4,
     "metadata": {},
     "output_type": "execute_result"
    }
   ],
   "source": [
    "pd.unique(flights['carrier'])"
   ]
  },
  {
   "cell_type": "code",
   "execution_count": 5,
   "metadata": {},
   "outputs": [
    {
     "data": {
      "text/html": [
       "<div>\n",
       "<style scoped>\n",
       "    .dataframe tbody tr th:only-of-type {\n",
       "        vertical-align: middle;\n",
       "    }\n",
       "\n",
       "    .dataframe tbody tr th {\n",
       "        vertical-align: top;\n",
       "    }\n",
       "\n",
       "    .dataframe thead th {\n",
       "        text-align: right;\n",
       "    }\n",
       "</style>\n",
       "<table border=\"1\" class=\"dataframe\">\n",
       "  <thead>\n",
       "    <tr style=\"text-align: right;\">\n",
       "      <th></th>\n",
       "      <th>Unnamed: 0</th>\n",
       "      <th>origin</th>\n",
       "      <th>year</th>\n",
       "      <th>month</th>\n",
       "      <th>day</th>\n",
       "      <th>hour</th>\n",
       "      <th>temp</th>\n",
       "      <th>dewp</th>\n",
       "      <th>humid</th>\n",
       "      <th>wind_dir</th>\n",
       "      <th>wind_speed</th>\n",
       "      <th>wind_gust</th>\n",
       "      <th>precip</th>\n",
       "      <th>pressure</th>\n",
       "      <th>visib</th>\n",
       "    </tr>\n",
       "  </thead>\n",
       "  <tbody>\n",
       "    <tr>\n",
       "      <th>0</th>\n",
       "      <td>1</td>\n",
       "      <td>EWR</td>\n",
       "      <td>2013</td>\n",
       "      <td>1.0</td>\n",
       "      <td>1.0</td>\n",
       "      <td>0.0</td>\n",
       "      <td>37.04</td>\n",
       "      <td>21.92</td>\n",
       "      <td>53.97</td>\n",
       "      <td>230.0</td>\n",
       "      <td>10.35702</td>\n",
       "      <td>11.918651</td>\n",
       "      <td>0.0</td>\n",
       "      <td>1013.9</td>\n",
       "      <td>10.0</td>\n",
       "    </tr>\n",
       "    <tr>\n",
       "      <th>1</th>\n",
       "      <td>2</td>\n",
       "      <td>EWR</td>\n",
       "      <td>2013</td>\n",
       "      <td>1.0</td>\n",
       "      <td>1.0</td>\n",
       "      <td>1.0</td>\n",
       "      <td>37.04</td>\n",
       "      <td>21.92</td>\n",
       "      <td>53.97</td>\n",
       "      <td>230.0</td>\n",
       "      <td>13.80936</td>\n",
       "      <td>15.891535</td>\n",
       "      <td>0.0</td>\n",
       "      <td>1013.0</td>\n",
       "      <td>10.0</td>\n",
       "    </tr>\n",
       "    <tr>\n",
       "      <th>2</th>\n",
       "      <td>3</td>\n",
       "      <td>EWR</td>\n",
       "      <td>2013</td>\n",
       "      <td>1.0</td>\n",
       "      <td>1.0</td>\n",
       "      <td>2.0</td>\n",
       "      <td>37.94</td>\n",
       "      <td>21.92</td>\n",
       "      <td>52.09</td>\n",
       "      <td>230.0</td>\n",
       "      <td>12.65858</td>\n",
       "      <td>14.567241</td>\n",
       "      <td>0.0</td>\n",
       "      <td>1012.6</td>\n",
       "      <td>10.0</td>\n",
       "    </tr>\n",
       "    <tr>\n",
       "      <th>3</th>\n",
       "      <td>4</td>\n",
       "      <td>EWR</td>\n",
       "      <td>2013</td>\n",
       "      <td>1.0</td>\n",
       "      <td>1.0</td>\n",
       "      <td>3.0</td>\n",
       "      <td>37.94</td>\n",
       "      <td>23.00</td>\n",
       "      <td>54.51</td>\n",
       "      <td>230.0</td>\n",
       "      <td>13.80936</td>\n",
       "      <td>15.891535</td>\n",
       "      <td>0.0</td>\n",
       "      <td>1012.7</td>\n",
       "      <td>10.0</td>\n",
       "    </tr>\n",
       "    <tr>\n",
       "      <th>4</th>\n",
       "      <td>5</td>\n",
       "      <td>EWR</td>\n",
       "      <td>2013</td>\n",
       "      <td>1.0</td>\n",
       "      <td>1.0</td>\n",
       "      <td>4.0</td>\n",
       "      <td>37.94</td>\n",
       "      <td>24.08</td>\n",
       "      <td>57.04</td>\n",
       "      <td>240.0</td>\n",
       "      <td>14.96014</td>\n",
       "      <td>17.215830</td>\n",
       "      <td>0.0</td>\n",
       "      <td>1012.8</td>\n",
       "      <td>10.0</td>\n",
       "    </tr>\n",
       "    <tr>\n",
       "      <th>5</th>\n",
       "      <td>6</td>\n",
       "      <td>EWR</td>\n",
       "      <td>2013</td>\n",
       "      <td>1.0</td>\n",
       "      <td>1.0</td>\n",
       "      <td>6.0</td>\n",
       "      <td>39.02</td>\n",
       "      <td>26.06</td>\n",
       "      <td>59.37</td>\n",
       "      <td>270.0</td>\n",
       "      <td>10.35702</td>\n",
       "      <td>11.918651</td>\n",
       "      <td>0.0</td>\n",
       "      <td>1012.0</td>\n",
       "      <td>10.0</td>\n",
       "    </tr>\n",
       "    <tr>\n",
       "      <th>6</th>\n",
       "      <td>7</td>\n",
       "      <td>EWR</td>\n",
       "      <td>2013</td>\n",
       "      <td>1.0</td>\n",
       "      <td>1.0</td>\n",
       "      <td>7.0</td>\n",
       "      <td>39.02</td>\n",
       "      <td>26.96</td>\n",
       "      <td>61.63</td>\n",
       "      <td>250.0</td>\n",
       "      <td>8.05546</td>\n",
       "      <td>9.270062</td>\n",
       "      <td>0.0</td>\n",
       "      <td>1012.3</td>\n",
       "      <td>10.0</td>\n",
       "    </tr>\n",
       "    <tr>\n",
       "      <th>7</th>\n",
       "      <td>8</td>\n",
       "      <td>EWR</td>\n",
       "      <td>2013</td>\n",
       "      <td>1.0</td>\n",
       "      <td>1.0</td>\n",
       "      <td>8.0</td>\n",
       "      <td>39.02</td>\n",
       "      <td>28.04</td>\n",
       "      <td>64.43</td>\n",
       "      <td>240.0</td>\n",
       "      <td>11.50780</td>\n",
       "      <td>13.242946</td>\n",
       "      <td>0.0</td>\n",
       "      <td>1012.5</td>\n",
       "      <td>10.0</td>\n",
       "    </tr>\n",
       "    <tr>\n",
       "      <th>8</th>\n",
       "      <td>9</td>\n",
       "      <td>EWR</td>\n",
       "      <td>2013</td>\n",
       "      <td>1.0</td>\n",
       "      <td>1.0</td>\n",
       "      <td>9.0</td>\n",
       "      <td>39.92</td>\n",
       "      <td>28.04</td>\n",
       "      <td>62.21</td>\n",
       "      <td>250.0</td>\n",
       "      <td>12.65858</td>\n",
       "      <td>14.567241</td>\n",
       "      <td>0.0</td>\n",
       "      <td>1012.2</td>\n",
       "      <td>10.0</td>\n",
       "    </tr>\n",
       "    <tr>\n",
       "      <th>9</th>\n",
       "      <td>10</td>\n",
       "      <td>EWR</td>\n",
       "      <td>2013</td>\n",
       "      <td>1.0</td>\n",
       "      <td>1.0</td>\n",
       "      <td>10.0</td>\n",
       "      <td>39.02</td>\n",
       "      <td>28.04</td>\n",
       "      <td>64.43</td>\n",
       "      <td>260.0</td>\n",
       "      <td>12.65858</td>\n",
       "      <td>14.567241</td>\n",
       "      <td>0.0</td>\n",
       "      <td>1011.9</td>\n",
       "      <td>10.0</td>\n",
       "    </tr>\n",
       "  </tbody>\n",
       "</table>\n",
       "</div>"
      ],
      "text/plain": [
       "   Unnamed: 0 origin  year  month  day  hour   temp   dewp  humid  wind_dir  \\\n",
       "0           1    EWR  2013    1.0  1.0   0.0  37.04  21.92  53.97     230.0   \n",
       "1           2    EWR  2013    1.0  1.0   1.0  37.04  21.92  53.97     230.0   \n",
       "2           3    EWR  2013    1.0  1.0   2.0  37.94  21.92  52.09     230.0   \n",
       "3           4    EWR  2013    1.0  1.0   3.0  37.94  23.00  54.51     230.0   \n",
       "4           5    EWR  2013    1.0  1.0   4.0  37.94  24.08  57.04     240.0   \n",
       "5           6    EWR  2013    1.0  1.0   6.0  39.02  26.06  59.37     270.0   \n",
       "6           7    EWR  2013    1.0  1.0   7.0  39.02  26.96  61.63     250.0   \n",
       "7           8    EWR  2013    1.0  1.0   8.0  39.02  28.04  64.43     240.0   \n",
       "8           9    EWR  2013    1.0  1.0   9.0  39.92  28.04  62.21     250.0   \n",
       "9          10    EWR  2013    1.0  1.0  10.0  39.02  28.04  64.43     260.0   \n",
       "\n",
       "   wind_speed  wind_gust  precip  pressure  visib  \n",
       "0    10.35702  11.918651     0.0    1013.9   10.0  \n",
       "1    13.80936  15.891535     0.0    1013.0   10.0  \n",
       "2    12.65858  14.567241     0.0    1012.6   10.0  \n",
       "3    13.80936  15.891535     0.0    1012.7   10.0  \n",
       "4    14.96014  17.215830     0.0    1012.8   10.0  \n",
       "5    10.35702  11.918651     0.0    1012.0   10.0  \n",
       "6     8.05546   9.270062     0.0    1012.3   10.0  \n",
       "7    11.50780  13.242946     0.0    1012.5   10.0  \n",
       "8    12.65858  14.567241     0.0    1012.2   10.0  \n",
       "9    12.65858  14.567241     0.0    1011.9   10.0  "
      ]
     },
     "execution_count": 5,
     "metadata": {},
     "output_type": "execute_result"
    }
   ],
   "source": [
    "weather.head(10)"
   ]
  },
  {
   "cell_type": "markdown",
   "metadata": {},
   "source": [
    "1)The first and the easiest seems to find the \"most delayed month\". (The month with the biggest number of delays)"
   ]
  },
  {
   "cell_type": "code",
   "execution_count": 38,
   "metadata": {},
   "outputs": [],
   "source": [
    "positive_delay = flights[flights.dep_delay>0]"
   ]
  },
  {
   "cell_type": "markdown",
   "metadata": {},
   "source": [
    "# 1"
   ]
  },
  {
   "cell_type": "code",
   "execution_count": 10,
   "metadata": {},
   "outputs": [
    {
     "name": "stdout",
     "output_type": "stream",
     "text": [
      "    month  Count\n",
      "0       1   9662\n",
      "1       2   9124\n",
      "2       3  11209\n",
      "3       4  10543\n",
      "4       5  11291\n",
      "5       6  12655\n",
      "6       7  13909\n",
      "7       8  11713\n",
      "8       9   7815\n",
      "9      10   8722\n",
      "10     11   8239\n",
      "11     12  13550\n"
     ]
    }
   ],
   "source": [
    "positive_delay_count=pd.DataFrame(positive_delay.groupby([positive_delay.month])['dep_delay'].size().reset_index(name='Count'))\n",
    "print(positive_delay_count)"
   ]
  },
  {
   "cell_type": "code",
   "execution_count": 11,
   "metadata": {},
   "outputs": [
    {
     "data": {
      "image/png": "[encoded data removed]",
      "text/plain": [
       "<Figure size 432x288 with 1 Axes>"
      ]
     },
     "metadata": {
      "needs_background": "light"
     },
     "output_type": "display_data"
    }
   ],
   "source": [
    "plt.bar(positive_delay_count.month, positive_delay_count.Count)\n",
    "plt.ylabel('Number of Delays')\n",
    "plt.xlabel('Months')\n",
    "plt.title('Number of delays per month')\n",
    "plt.tight_layout()\n",
    "plt.show()"
   ]
  },
  {
   "cell_type": "markdown",
   "metadata": {},
   "source": [
    "We can see that the biggest number of delays occurs in December and gradually grows from April to July. Probably they happen because of greater number of holidays in this months so we can give an advice to the airlines to increase the number of employees in the shift in these months."
   ]
  },
  {
   "cell_type": "markdown",
   "metadata": {},
   "source": [
    "# 2"
   ]
  },
  {
   "cell_type": "markdown",
   "metadata": {},
   "source": [
    "The next reasonable idea is to check the most delayed day of the week but probably we won't obtain any clear information."
   ]
  },
  {
   "cell_type": "code",
   "execution_count": 14,
   "metadata": {},
   "outputs": [
    {
     "name": "stdout",
     "output_type": "stream",
     "text": [
      "   day  Count\n",
      "0    0  16486\n",
      "1    1  21251\n",
      "2    2  20429\n",
      "3    3  20019\n",
      "4    4  17549\n",
      "5    5  16440\n",
      "6    6  16258\n"
     ]
    }
   ],
   "source": [
    "positive_delay_count=pd.DataFrame(positive_delay.groupby([positive_delay.day%7])['dep_delay'].size().reset_index(name='Count'))\n",
    "print(positive_delay_count)\n"
   ]
  },
  {
   "cell_type": "code",
   "execution_count": 30,
   "metadata": {},
   "outputs": [
    {
     "data": {
      "image/png": "[encoded data removed]",
      "text/plain": [
       "<Figure size 432x288 with 1 Axes>"
      ]
     },
     "metadata": {
      "needs_background": "light"
     },
     "output_type": "display_data"
    }
   ],
   "source": [
    "plt.bar(positive_delay_count.day, positive_delay_count.Count)\n",
    "plt.ylabel('Number of Delays')\n",
    "plt.xlabel('Months')\n",
    "plt.title('Number of delays per day of week')\n",
    "plt.tight_layout()\n",
    "plt.xticks([0,1,2,3,4,5,6],['Mon','Tue','Wed','Thu','Fri','Sat','Sun'])\n",
    "plt.show()"
   ]
  },
  {
   "cell_type": "markdown",
   "metadata": {},
   "source": [
    "I've found that the first day of January 2013 was Tuesday. So the first day of the table is Tuesday. We can see that the biggest number of delays happens on Tuesdays so we can also give an advice to the airlines to increase the number of employees in the shifts on Tuesdays."
   ]
  },
  {
   "cell_type": "markdown",
   "metadata": {},
   "source": [
    "# 3 "
   ]
  },
  {
   "cell_type": "markdown",
   "metadata": {},
   "source": [
    "The next reasonable idea is to consider the delays during a single day, but this time we will look on the median value of this data."
   ]
  },
  {
   "cell_type": "code",
   "execution_count": 39,
   "metadata": {},
   "outputs": [
    {
     "name": "stdout",
     "output_type": "stream",
     "text": [
      "    hour  Mean_delay_departure\n",
      "0    0.0            128.642452\n",
      "1    1.0            207.049327\n",
      "2    2.0            239.921875\n",
      "3    3.0            304.727273\n",
      "4    5.0              6.592391\n",
      "5    6.0             11.272904\n",
      "6    7.0             17.932435\n",
      "7    8.0             19.484653\n",
      "8    9.0             26.300290\n",
      "9   10.0             27.960072\n",
      "10  11.0             31.883025\n",
      "11  12.0             29.784933\n",
      "12  13.0             28.628948\n",
      "13  14.0             29.296095\n",
      "14  15.0             27.906983\n",
      "15  16.0             33.224913\n",
      "16  17.0             35.912961\n",
      "17  18.0             43.505234\n",
      "18  19.0             44.520623\n",
      "19  20.0             54.294921\n",
      "20  21.0             64.210371\n",
      "21  22.0             92.465274\n",
      "22  23.0            125.344743\n",
      "23  24.0             64.862069\n"
     ]
    }
   ],
   "source": [
    "positive_delay_day = pd.DataFrame(positive_delay.groupby(positive_delay.hour)['dep_delay'].mean().reset_index(name='Mean_delay_departure'))\n",
    "print(positive_delay_day)"
   ]
  },
  {
   "cell_type": "code",
   "execution_count": 33,
   "metadata": {},
   "outputs": [
    {
     "data": {
      "image/png": "[encoded data removed]",
      "text/plain": [
       "<Figure size 432x288 with 1 Axes>"
      ]
     },
     "metadata": {
      "needs_background": "light"
     },
     "output_type": "display_data"
    }
   ],
   "source": [
    "plt.plot(positive_delay_day.hour, positive_delay_day.Mean_delay_departure,'')\n",
    "plt.xlim(0, 25)\n",
    "plt.ylabel('Mean delay departure (minutes)')\n",
    "plt.xlabel('Daytime')\n",
    "\n",
    "plt.show()"
   ]
  },
  {
   "cell_type": "markdown",
   "metadata": {},
   "source": [
    "I think from this data advice should be given to the customers but not to the airlines. It is better to have a flight early in the morning just after beginning of the flying day. Further during the day all small delays accumulate and in the evening the mean delay becomes essential. At the same time we should say to the airlines that as small delays accumulate in to big ones probably it is worth it to increase the crew in general in order to avoid the delays."
   ]
  },
  {
   "cell_type": "markdown",
   "metadata": {},
   "source": [
    "# 4"
   ]
  },
  {
   "cell_type": "markdown",
   "metadata": {},
   "source": [
    "To prove my words about \"delay accumulation\" I suggest to consider the number of flights during the day/night and realize that the delay doesn't happen because of the number of the flights."
   ]
  },
  {
   "cell_type": "code",
   "execution_count": 52,
   "metadata": {},
   "outputs": [
    {
     "data": {
      "image/png": "[encoded data removed]",
      "text/plain": [
       "<Figure size 432x288 with 1 Axes>"
      ]
     },
     "metadata": {},
     "output_type": "display_data"
    }
   ],
   "source": [
    "night=flights.loc[(flights['hour']>=22.0) | (flights['hour']<=7.0)]\n",
    "day=flights.loc[(flights['hour']<22.0) & (flights['hour']>7.0)]\n",
    "day_value=day.shape[0]\n",
    "night_value=night.shape[0]\n",
    "data = [night_value,day_value]\n",
    "plt.pie (data,labels=['Night flight','Day flight'])\n",
    "\n",
    "plt.show()"
   ]
  },
  {
   "cell_type": "markdown",
   "metadata": {},
   "source": [
    "# 5"
   ]
  },
  {
   "cell_type": "markdown",
   "metadata": {},
   "source": [
    "This would be the last argument to prove my words about delay accumulation. I would show the percentage of delayed flights during the day."
   ]
  },
  {
   "cell_type": "code",
   "execution_count": 73,
   "metadata": {},
   "outputs": [],
   "source": [
    "positive_delay_day = pd.DataFrame(positive_delay.groupby(positive_delay.hour)['dep_delay'].size().reset_index(name='positive_delay_departure'))\n",
    "total_delay_day = pd.DataFrame(flights.groupby(flights.hour)['dep_delay'].size().reset_index(name='total_departure'))"
   ]
  },
  {
   "cell_type": "code",
   "execution_count": 107,
   "metadata": {},
   "outputs": [],
   "source": [
    "#print(positive_delay_day)\n",
    "#print(total_delay_day)\n",
    "merged = pd.merge(positive_delay_day,total_delay_day,on='hour',how='outer')\n",
    "#print(merged)\n",
    "#print(positive_delay_day['positive_delay_departure']/(total_delay_day['total_departure']))*100\n"
   ]
  },
  {
   "cell_type": "code",
   "execution_count": 98,
   "metadata": {},
   "outputs": [],
   "source": [
    "merged = merged.fillna(0)"
   ]
  },
  {
   "cell_type": "code",
   "execution_count": 99,
   "metadata": {},
   "outputs": [],
   "source": [
    "merged = merged.sort_values(by = 'hour')"
   ]
  },
  {
   "cell_type": "code",
   "execution_count": 106,
   "metadata": {},
   "outputs": [],
   "source": [
    "ratio = merged['positive_delay_departure']/merged['total_departure']*100\n",
    "#print(merged)"
   ]
  },
  {
   "cell_type": "code",
   "execution_count": 109,
   "metadata": {},
   "outputs": [
    {
     "data": {
      "image/png": "[encoded data removed]",
      "text/plain": [
       "<Figure size 432x288 with 1 Axes>"
      ]
     },
     "metadata": {
      "needs_background": "light"
     },
     "output_type": "display_data"
    }
   ],
   "source": [
    "plt.bar(merged.hour, ratio, color='grey')\n",
    "plt.ylabel('Persentage of delayed aircrafts')\n",
    "plt.xlabel('Hours')\n",
    "plt.show()"
   ]
  },
  {
   "cell_type": "markdown",
   "metadata": {},
   "source": [
    "And again we can see that the number of delayed aircrafts increases during the day, and the lowest point is at the beginning of the flying day. The advise is the same as at the previous point."
   ]
  },
  {
   "cell_type": "markdown",
   "metadata": {},
   "source": [
    "# 6"
   ]
  },
  {
   "cell_type": "markdown",
   "metadata": {},
   "source": [
    "In my opinion the next important aspect to be checked is the connection between visibility and delays."
   ]
  },
  {
   "cell_type": "code",
   "execution_count": 110,
   "metadata": {},
   "outputs": [],
   "source": [
    "merged_table = pd.merge(flights,weather, on=['origin','day','month','hour'])\n"
   ]
  },
  {
   "cell_type": "code",
   "execution_count": 111,
   "metadata": {},
   "outputs": [],
   "source": [
    "merged_table = merged_table[merged_table.dep_delay>0]"
   ]
  },
  {
   "cell_type": "code",
   "execution_count": 139,
   "metadata": {},
   "outputs": [],
   "source": [
    "#merged_table.head()"
   ]
  },
  {
   "cell_type": "code",
   "execution_count": 196,
   "metadata": {},
   "outputs": [
    {
     "data": {
      "image/png": "[encoded data removed]",
      "text/plain": [
       "<Figure size 432x288 with 1 Axes>"
      ]
     },
     "metadata": {
      "needs_background": "light"
     },
     "output_type": "display_data"
    }
   ],
   "source": [
    "plt.plot(merged_table.groupby('visib')['dep_delay'].mean())\n",
    "plt.xlabel('Visibility')\n",
    "plt.ylabel('Mean delay')\n",
    "plt.show()"
   ]
  },
  {
   "cell_type": "markdown",
   "metadata": {},
   "source": [
    "The graph shows us that better visibility provides smaller delays"
   ]
  },
  {
   "cell_type": "markdown",
   "metadata": {},
   "source": [
    "# 7"
   ]
  },
  {
   "cell_type": "markdown",
   "metadata": {},
   "source": [
    "With my next step I also want to justify the airlines a little bit and show that some delays are connected to the wind level."
   ]
  },
  {
   "cell_type": "code",
   "execution_count": 185,
   "metadata": {},
   "outputs": [
    {
     "data": {
      "image/png": "[encoded data removed]",
      "text/plain": [
       "<Figure size 432x288 with 1 Axes>"
      ]
     },
     "metadata": {
      "needs_background": "light"
     },
     "output_type": "display_data"
    }
   ],
   "source": [
    "from scipy.signal import savgol_filter\n",
    "#print(merged_table.groupby('temp')['dep_delay'].size())\n",
    "#y = savgol_filter(merged_table.groupby('temp')['dep_delay'].size(),40,3)\n",
    "plt.plot(merged_table.groupby('wind_speed')['dep_delay'].mean())\n",
    "plt.xlabel('Wind speed')\n",
    "plt.ylabel('Value of delay')\n",
    "plt.xlim(0,40)\n",
    "plt.show()"
   ]
  },
  {
   "cell_type": "markdown",
   "metadata": {},
   "source": [
    "We can see that the mean time of a delay sharply increases when the wind spead reaches 25. It lets us understand that sometimes flights are delayed because weather conditions but not because of the airlines."
   ]
  },
  {
   "cell_type": "markdown",
   "metadata": {},
   "source": [
    "# 8"
   ]
  },
  {
   "cell_type": "markdown",
   "metadata": {},
   "source": [
    "Now lets check the temperature."
   ]
  },
  {
   "cell_type": "code",
   "execution_count": 193,
   "metadata": {},
   "outputs": [
    {
     "data": {
      "image/png": "[encoded data removed]",
      "text/plain": [
       "<Figure size 432x288 with 1 Axes>"
      ]
     },
     "metadata": {
      "needs_background": "light"
     },
     "output_type": "display_data"
    }
   ],
   "source": [
    "from scipy.signal import savgol_filter\n",
    "#print(merged_table.groupby('temp')['dep_delay'].size())\n",
    "#y = savgol_filter(merged_table.groupby('temp')['dep_delay'].size(),40,3)\n",
    "plt.plot(merged_table.groupby('temp')['dep_delay'].mean())\n",
    "plt.xlabel('Temperature')\n",
    "plt.ylabel('Value of delay')\n",
    "plt.xlim(0,120)\n",
    "plt.show()"
   ]
  },
  {
   "cell_type": "markdown",
   "metadata": {},
   "source": [
    "This graph shows that delays are not connected to the temperature"
   ]
  },
  {
   "cell_type": "markdown",
   "metadata": {},
   "source": [
    "# 9 10"
   ]
  },
  {
   "cell_type": "markdown",
   "metadata": {},
   "source": [
    "Lets now check which company has the biggest number of delays and biggest mean delay."
   ]
  },
  {
   "cell_type": "code",
   "execution_count": 221,
   "metadata": {},
   "outputs": [
    {
     "data": {
      "image/png": "[encoded data removed]",
      "text/plain": [
       "<Figure size 432x288 with 1 Axes>"
      ]
     },
     "metadata": {
      "needs_background": "light"
     },
     "output_type": "display_data"
    },
    {
     "data": {
      "image/png": "[encoded data removed]",
      "text/plain": [
       "<Figure size 432x288 with 1 Axes>"
      ]
     },
     "metadata": {
      "needs_background": "light"
     },
     "output_type": "display_data"
    }
   ],
   "source": [
    "filtered=flights[(flights.dep_delay>0)&(flights.arr_delay>0)]\n",
    "\n",
    "filtered_dep=pd.DataFrame(filtered.groupby([filtered.carrier])['dep_delay'].size().reset_index(name='Count'))\n",
    "filtered_arr=pd.DataFrame(filtered.groupby([filtered.carrier])['arr_delay'].mean().reset_index(name='Mean_arr'))\n",
    "#print(data)\n",
    "data_dep=pd.DataFrame(flights.groupby([flights.carrier])['dep_delay'].size().reset_index(name='Total_count'))\n",
    "data_arr=pd.DataFrame(flights.groupby([flights.carrier])['arr_delay'].size().reset_index(name='Total_count'))\n",
    "\n",
    "data_merged_dep = pd.merge(filtered_dep,data_dep, on=['carrier'])\n",
    "data_merged_arr = pd.merge(filtered_arr,data_arr, on=['carrier'])\n",
    "\n",
    "data_merged_dep['Persentage_of_delayed_aircrafts']=(data_merged_dep.Count/data_merged_dep.Total_count)*100\n",
    "\n",
    "objects = data_merged_dep.carrier\n",
    "plt.barh(data_merged_dep.carrier, data_merged_dep.Persentage_of_delayed_aircrafts, align='center', alpha=1.0)\n",
    "plt.yticks(data_merged_dep.carrier, objects)\n",
    "plt.xlabel(' Percent of delayed aircrafts')\n",
    "\n",
    "plt.show()\n",
    "#print(data_merged_arr)\n",
    "objects = data_merged_arr.carrier\n",
    "plt.barh(data_merged_arr.carrier, filtered_arr.Mean_arr, align='center', alpha=0.5)\n",
    "plt.yticks(data_merged_arr.carrier, objects)\n",
    "plt.xlabel('Mean delay')\n",
    "\n",
    "plt.show()"
   ]
  },
  {
   "cell_type": "markdown",
   "metadata": {},
   "source": [
    "From this data customers can obtain for example that HA has a delay on only about 11% of their flights when FL have more than 40%"
   ]
  },
  {
   "cell_type": "code",
   "execution_count": null,
   "metadata": {},
   "outputs": [],
   "source": []
  }
 ],
 "metadata": {
  "kernelspec": {
   "display_name": "Python 3",
   "language": "python",
   "name": "python3"
  },
  "language_info": {
   "codemirror_mode": {
    "name": "ipython",
    "version": 3
   },
   "file_extension": ".py",
   "mimetype": "text/x-python",
   "name": "python",
   "nbconvert_exporter": "python",
   "pygments_lexer": "ipython3",
   "version": "3.7.4"
  }
 },
 "nbformat": 4,
 "nbformat_minor": 4
}
