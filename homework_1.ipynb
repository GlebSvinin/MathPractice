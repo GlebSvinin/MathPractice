{
 "cells": [
  {
   "cell_type": "code",
   "execution_count": 1,
   "metadata": {},
   "outputs": [],
   "source": [
    "class Test:\n",
    "    @staticmethod\n",
    "    def assert_equals(a, b, *args, **kwargs):\n",
    "        assert a == b\n",
    "        print('Passed')"
   ]
  },
  {
   "cell_type": "markdown",
   "metadata": {},
   "source": [
    "Problem https://edabit.com/challenge/FF6kYPHdAcJnoosr5 (2 points)"
   ]
  },
  {
   "cell_type": "code",
   "execution_count": 2,
   "metadata": {},
   "outputs": [],
   "source": [
    "def factorial(num):\n",
    "    n = 1\n",
    "    for i in range(num):\n",
    "        n = n*(num-i)\n",
    "    return n"
   ]
  },
  {
   "cell_type": "code",
   "execution_count": 3,
   "metadata": {},
   "outputs": [
    {
     "name": "stdout",
     "output_type": "stream",
     "text": [
      "Passed\n",
      "Passed\n",
      "Passed\n",
      "Passed\n",
      "Passed\n"
     ]
    }
   ],
   "source": [
    "Test.assert_equals(factorial(2), 2)\n",
    "Test.assert_equals(factorial(6), 720)\n",
    "Test.assert_equals(factorial(3), 6)\n",
    "Test.assert_equals(factorial(12), 479001600)\n",
    "Test.assert_equals(factorial(5), 120)"
   ]
  },
  {
   "cell_type": "markdown",
   "metadata": {},
   "source": [
    "Problem https://edabit.com/challenge/HYjQKDXFfeppcWmLX (2 points)"
   ]
  },
  {
   "cell_type": "code",
   "execution_count": 4,
   "metadata": {},
   "outputs": [],
   "source": [
    "def is_curzon(num):\n",
    "    if (2**num+1)%(2*num+1)==0:\n",
    "        return True\n",
    "    else:\n",
    "        return False"
   ]
  },
  {
   "cell_type": "code",
   "execution_count": 5,
   "metadata": {},
   "outputs": [
    {
     "name": "stdout",
     "output_type": "stream",
     "text": [
      "Passed\n",
      "Passed\n",
      "Passed\n",
      "Passed\n",
      "Passed\n",
      "Passed\n",
      "Passed\n",
      "Passed\n",
      "Passed\n"
     ]
    }
   ],
   "source": [
    "Test.assert_equals(is_curzon(5), True)\n",
    "Test.assert_equals(is_curzon(10), False)\n",
    "Test.assert_equals(is_curzon(14), True)\n",
    "Test.assert_equals(is_curzon(86), True)\n",
    "Test.assert_equals(is_curzon(90), True)\n",
    "Test.assert_equals(is_curzon(115), False)\n",
    "Test.assert_equals(is_curzon(120), False)\n",
    "Test.assert_equals(is_curzon(194), True)\n",
    "Test.assert_equals(is_curzon(293), True)"
   ]
  },
  {
   "cell_type": "markdown",
   "metadata": {},
   "source": [
    "Problem https://edabit.com/challenge/4me7LifXBwj5rhL4n (2 points)"
   ]
  },
  {
   "cell_type": "code",
   "execution_count": 6,
   "metadata": {},
   "outputs": [],
   "source": [
    "def circle_or_square(rad, area):\n",
    "    if 2*3.14*rad > 4*area**(1/2):\n",
    "        return True\n",
    "    else:\n",
    "        return False"
   ]
  },
  {
   "cell_type": "code",
   "execution_count": 7,
   "metadata": {},
   "outputs": [
    {
     "name": "stdout",
     "output_type": "stream",
     "text": [
      "Passed\n",
      "Passed\n",
      "Passed\n",
      "Passed\n",
      "Passed\n",
      "Passed\n"
     ]
    }
   ],
   "source": [
    "Test.assert_equals(circle_or_square(16, 625), True)\n",
    "Test.assert_equals(circle_or_square(8, 144), True)\n",
    "Test.assert_equals(circle_or_square(15, 400), True)\n",
    "Test.assert_equals(circle_or_square(5, 100), False)\n",
    "Test.assert_equals(circle_or_square(18, 900), False)\n",
    "Test.assert_equals(circle_or_square(1, 4), False)"
   ]
  },
  {
   "cell_type": "markdown",
   "metadata": {},
   "source": [
    "Problem https://edabit.com/challenge/uXPF7XM4KoiiSnjuA (2 points)"
   ]
  },
  {
   "cell_type": "code",
   "execution_count": 8,
   "metadata": {},
   "outputs": [],
   "source": [
    "import math\n",
    "def cone_volume(h, r):\n",
    "    return round((1/3)*(math.pi)*(r**2)*h,2)"
   ]
  },
  {
   "cell_type": "code",
   "execution_count": 9,
   "metadata": {},
   "outputs": [
    {
     "name": "stdout",
     "output_type": "stream",
     "text": [
      "Passed\n",
      "Passed\n",
      "Passed\n",
      "Passed\n",
      "Passed\n",
      "Passed\n"
     ]
    }
   ],
   "source": [
    "Test.assert_equals(cone_volume(3, 2), 12.57)\n",
    "Test.assert_equals(cone_volume(15, 6), 565.49)\n",
    "Test.assert_equals(cone_volume(18, 0), 0)\n",
    "Test.assert_equals(cone_volume(100, 2), 418.88)\n",
    "Test.assert_equals(cone_volume(1, 1), 1.05)\n",
    "Test.assert_equals(cone_volume(0, 30), 0)"
   ]
  },
  {
   "cell_type": "markdown",
   "metadata": {},
   "source": [
    "Problem https://edabit.com/challenge/MojpPTZYQyN5L2i4a (2 points)"
   ]
  },
  {
   "cell_type": "code",
   "execution_count": 10,
   "metadata": {},
   "outputs": [],
   "source": [
    "def cars(wheels, bodies, figures):\n",
    "    return min(wheels//4, bodies//1, figures//2)"
   ]
  },
  {
   "cell_type": "code",
   "execution_count": 11,
   "metadata": {},
   "outputs": [
    {
     "name": "stdout",
     "output_type": "stream",
     "text": [
      "Passed\n",
      "Passed\n",
      "Passed\n",
      "Passed\n",
      "Passed\n",
      "Passed\n",
      "Passed\n",
      "Passed\n",
      "Passed\n",
      "Passed\n",
      "Passed\n",
      "Passed\n",
      "Passed\n",
      "Passed\n",
      "Passed\n",
      "Passed\n",
      "Passed\n",
      "Passed\n",
      "Passed\n",
      "Passed\n"
     ]
    }
   ],
   "source": [
    "Test.assert_equals(cars(37, 15, 20), 9)\n",
    "Test.assert_equals(cars(72, 7, 21), 7)\n",
    "Test.assert_equals(cars(9, 44, 34), 2)\n",
    "Test.assert_equals(cars(50, 38, 7), 3)\n",
    "Test.assert_equals(cars(68, 9, 44), 9)\n",
    "Test.assert_equals(cars(3, 29, 54), 0)\n",
    "Test.assert_equals(cars(28, 34, 80), 7)\n",
    "Test.assert_equals(cars(88, 50, 83), 22)\n",
    "Test.assert_equals(cars(66, 18, 21), 10)\n",
    "Test.assert_equals(cars(97, 6, 10), 5)\n",
    "Test.assert_equals(cars(921, 310, 350), 175)\n",
    "Test.assert_equals(cars(736, 430, 851), 184)\n",
    "Test.assert_equals(cars(405, 379, 740), 101)\n",
    "Test.assert_equals(cars(593, 78, 389), 78)\n",
    "Test.assert_equals(cars(875, 370, 675), 218)\n",
    "Test.assert_equals(cars(863, 274, 203), 101)\n",
    "Test.assert_equals(cars(959, 331, 537), 239)\n",
    "Test.assert_equals(cars(416, 340, 551), 104)\n",
    "Test.assert_equals(cars(692, 348, 543), 173)\n",
    "Test.assert_equals(cars(527, 412, 951), 131)"
   ]
  },
  {
   "cell_type": "markdown",
   "metadata": {},
   "source": [
    "Problem https://edabit.com/challenge/si2H6WC5YX99cn6LQ (2 points)"
   ]
  },
  {
   "cell_type": "code",
   "execution_count": 12,
   "metadata": {},
   "outputs": [],
   "source": [
    "def sum_numbers(n):\n",
    "    if n>1:\n",
    "        return n+sum_numbers(n-1)\n",
    "    else:\n",
    "        return 1"
   ]
  },
  {
   "cell_type": "code",
   "execution_count": 13,
   "metadata": {},
   "outputs": [
    {
     "name": "stdout",
     "output_type": "stream",
     "text": [
      "Passed\n",
      "Passed\n",
      "Passed\n",
      "Passed\n",
      "Passed\n",
      "Passed\n",
      "Passed\n",
      "Passed\n"
     ]
    }
   ],
   "source": [
    "Test.assert_equals(sum_numbers(1), 1)\n",
    "Test.assert_equals(sum_numbers(5), 15)\n",
    "Test.assert_equals(sum_numbers(7), 28)\n",
    "Test.assert_equals(sum_numbers(10), 55)\n",
    "Test.assert_equals(sum_numbers(12), 78)\n",
    "Test.assert_equals(sum_numbers(15), 120)\n",
    "Test.assert_equals(sum_numbers(20), 210)\n",
    "Test.assert_equals(sum_numbers(100), 5050)"
   ]
  },
  {
   "cell_type": "markdown",
   "metadata": {},
   "source": [
    "Problem https://edabit.com/challenge/WXqH9qvvGkmx4dMvp (3 points)"
   ]
  },
  {
   "cell_type": "code",
   "execution_count": 18,
   "metadata": {},
   "outputs": [],
   "source": [
    "def fizz_buzz(num):\n",
    "    if num % 15 == 0:\n",
    "        return \"FizzBuzz\"\n",
    "    elif num % 5 == 0:\n",
    "        return \"Buzz\"\n",
    "    elif num % 3 == 0:\n",
    "        return \"Fizz\"\n",
    "    else:\n",
    "        return str(num)"
   ]
  },
  {
   "cell_type": "code",
   "execution_count": 19,
   "metadata": {},
   "outputs": [
    {
     "name": "stdout",
     "output_type": "stream",
     "text": [
      "Passed\n",
      "Passed\n",
      "Passed\n",
      "Passed\n",
      "Passed\n"
     ]
    }
   ],
   "source": [
    "Test.assert_equals(fizz_buzz(3), \"Fizz\", \"You gave \" + fizz_buzz(3) + \" and Fizz was needed\")\n",
    "Test.assert_equals(fizz_buzz(5), \"Buzz\", \"You gave \" + fizz_buzz(5) + \" and Buzz was needed\")\n",
    "Test.assert_equals(fizz_buzz(15), \"FizzBuzz\", \"You gave \" + fizz_buzz(15) + \" and FizzBuzz was needed\")\n",
    "Test.assert_equals(fizz_buzz(10), \"Buzz\", \"You gave \" + fizz_buzz(10) + \" and Buzz was needed\")\n",
    "Test.assert_equals(fizz_buzz(98), \"98\", \"You gave \" + fizz_buzz(98) + \" and 98 was needed\")"
   ]
  },
  {
   "cell_type": "code",
   "execution_count": null,
   "metadata": {},
   "outputs": [],
   "source": []
  }
 ],
 "metadata": {
  "kernelspec": {
   "display_name": "Python 3",
   "language": "python",
   "name": "python3"
  },
  "language_info": {
   "codemirror_mode": {
    "name": "ipython",
    "version": 3
   },
   "file_extension": ".py",
   "mimetype": "text/x-python",
   "name": "python",
   "nbconvert_exporter": "python",
   "pygments_lexer": "ipython3",
   "version": "3.7.4"
  }
 },
 "nbformat": 4,
 "nbformat_minor": 4
}
